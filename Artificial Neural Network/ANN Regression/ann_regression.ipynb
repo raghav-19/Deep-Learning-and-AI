{
  "nbformat": 4,
  "nbformat_minor": 0,
  "metadata": {
    "colab": {
      "name": "ann_regression.ipynb",
      "provenance": []
    },
    "kernelspec": {
      "name": "python3",
      "display_name": "Python 3"
    },
    "language_info": {
      "name": "python"
    }
  },
  "cells": [
    {
      "cell_type": "markdown",
      "source": [
        "#Artificial Neural Network Regression Problem"
      ],
      "metadata": {
        "id": "JVrkxePE8JKH"
      }
    },
    {
      "cell_type": "markdown",
      "source": [
        "##Importing Libraries and Dataset"
      ],
      "metadata": {
        "id": "wCYVS_iv8LW8"
      }
    },
    {
      "cell_type": "code",
      "execution_count": 1,
      "metadata": {
        "id": "mBtqfDAk7-qe"
      },
      "outputs": [],
      "source": [
        "import numpy as np\n",
        "import pandas as pd\n",
        "import matplotlib.pyplot as plt\n",
        "import tensorflow as tf"
      ]
    },
    {
      "cell_type": "code",
      "source": [
        "df=pd.read_excel(\"/content/drive/MyDrive/Dataset/Folds5x2_pp.xlsx\",sheet_name='Sheet1')\n",
        "X=df.iloc[:,:-1].values\n",
        "y=df.iloc[:,-1].values"
      ],
      "metadata": {
        "id": "qrE8-Bdg8Rjg"
      },
      "execution_count": 2,
      "outputs": []
    },
    {
      "cell_type": "markdown",
      "source": [
        "##Splitting Dataset and Feature Scaling"
      ],
      "metadata": {
        "id": "qZ2T99628d9J"
      }
    },
    {
      "cell_type": "code",
      "source": [
        "from sklearn.model_selection import train_test_split\n",
        "X_train,X_test,y_train,y_test=train_test_split(X,y,test_size=0.25,random_state=5)"
      ],
      "metadata": {
        "id": "m9kTCw5K8glk"
      },
      "execution_count": 3,
      "outputs": []
    },
    {
      "cell_type": "code",
      "source": [
        "from sklearn.preprocessing import StandardScaler\n",
        "sc=StandardScaler()\n",
        "X_train=sc.fit_transform(X_train)\n",
        "X_test=sc.transform(X_test)"
      ],
      "metadata": {
        "id": "6D3NWdyQ8jB5"
      },
      "execution_count": 4,
      "outputs": []
    },
    {
      "cell_type": "markdown",
      "source": [
        "##Building ANN"
      ],
      "metadata": {
        "id": "WGj0P2YB8qh8"
      }
    },
    {
      "cell_type": "code",
      "source": [
        "ann=tf.keras.models.Sequential()\n",
        "ann.add(tf.keras.layers.Dense(6,activation='relu'))\n",
        "ann.add(tf.keras.layers.Dense(6,activation='relu'))\n",
        "ann.add(tf.keras.layers.Dense(1))"
      ],
      "metadata": {
        "id": "DPcYZLon8tDc"
      },
      "execution_count": 5,
      "outputs": []
    },
    {
      "cell_type": "code",
      "source": [
        "ann.compile(optimizer='adam',loss='mae')\n",
        "history=ann.fit(X_train,y_train,batch_size=32,epochs=30,verbose=1,validation_data=(X_test,y_test))"
      ],
      "metadata": {
        "colab": {
          "base_uri": "https://localhost:8080/"
        },
        "id": "ve4fC2jA8yDh",
        "outputId": "3c3502b2-5f25-4eb2-e7bc-c1a4504dec34"
      },
      "execution_count": 6,
      "outputs": [
        {
          "output_type": "stream",
          "name": "stdout",
          "text": [
            "Epoch 1/30\n",
            "225/225 [==============================] - 1s 3ms/step - loss: 453.5407 - val_loss: 451.9549\n",
            "Epoch 2/30\n",
            "225/225 [==============================] - 0s 2ms/step - loss: 447.0372 - val_loss: 439.2348\n",
            "Epoch 3/30\n",
            "225/225 [==============================] - 0s 2ms/step - loss: 423.3246 - val_loss: 403.4842\n",
            "Epoch 4/30\n",
            "225/225 [==============================] - 0s 2ms/step - loss: 372.2393 - val_loss: 337.5204\n",
            "Epoch 5/30\n",
            "225/225 [==============================] - 0s 2ms/step - loss: 311.9876 - val_loss: 301.7618\n",
            "Epoch 6/30\n",
            "225/225 [==============================] - 0s 2ms/step - loss: 293.2028 - val_loss: 292.8718\n",
            "Epoch 7/30\n",
            "225/225 [==============================] - 0s 2ms/step - loss: 284.5416 - val_loss: 284.3954\n",
            "Epoch 8/30\n",
            "225/225 [==============================] - 0s 2ms/step - loss: 274.9615 - val_loss: 273.5976\n",
            "Epoch 9/30\n",
            "225/225 [==============================] - 0s 2ms/step - loss: 262.0924 - val_loss: 257.4669\n",
            "Epoch 10/30\n",
            "225/225 [==============================] - 0s 2ms/step - loss: 240.7866 - val_loss: 227.3594\n",
            "Epoch 11/30\n",
            "225/225 [==============================] - 1s 2ms/step - loss: 195.1242 - val_loss: 157.2818\n",
            "Epoch 12/30\n",
            "225/225 [==============================] - 0s 2ms/step - loss: 96.8913 - val_loss: 33.3578\n",
            "Epoch 13/30\n",
            "225/225 [==============================] - 0s 2ms/step - loss: 11.3239 - val_loss: 6.0065\n",
            "Epoch 14/30\n",
            "225/225 [==============================] - 0s 2ms/step - loss: 4.7588 - val_loss: 3.8932\n",
            "Epoch 15/30\n",
            "225/225 [==============================] - 0s 2ms/step - loss: 3.8379 - val_loss: 3.6624\n",
            "Epoch 16/30\n",
            "225/225 [==============================] - 0s 2ms/step - loss: 3.7458 - val_loss: 3.6884\n",
            "Epoch 17/30\n",
            "225/225 [==============================] - 0s 2ms/step - loss: 3.7572 - val_loss: 3.6271\n",
            "Epoch 18/30\n",
            "225/225 [==============================] - 0s 2ms/step - loss: 3.7449 - val_loss: 3.6074\n",
            "Epoch 19/30\n",
            "225/225 [==============================] - 0s 2ms/step - loss: 3.7266 - val_loss: 3.6082\n",
            "Epoch 20/30\n",
            "225/225 [==============================] - 0s 2ms/step - loss: 3.7231 - val_loss: 3.6002\n",
            "Epoch 21/30\n",
            "225/225 [==============================] - 0s 2ms/step - loss: 3.7360 - val_loss: 3.5880\n",
            "Epoch 22/30\n",
            "225/225 [==============================] - 1s 2ms/step - loss: 3.7033 - val_loss: 3.6807\n",
            "Epoch 23/30\n",
            "225/225 [==============================] - 0s 2ms/step - loss: 3.7079 - val_loss: 3.5848\n",
            "Epoch 24/30\n",
            "225/225 [==============================] - 0s 2ms/step - loss: 3.7108 - val_loss: 3.6080\n",
            "Epoch 25/30\n",
            "225/225 [==============================] - 0s 2ms/step - loss: 3.7109 - val_loss: 3.5643\n",
            "Epoch 26/30\n",
            "225/225 [==============================] - 0s 2ms/step - loss: 3.7222 - val_loss: 3.6265\n",
            "Epoch 27/30\n",
            "225/225 [==============================] - 0s 2ms/step - loss: 3.7095 - val_loss: 3.5697\n",
            "Epoch 28/30\n",
            "225/225 [==============================] - 0s 2ms/step - loss: 3.7001 - val_loss: 3.6134\n",
            "Epoch 29/30\n",
            "225/225 [==============================] - 0s 2ms/step - loss: 3.7115 - val_loss: 3.5784\n",
            "Epoch 30/30\n",
            "225/225 [==============================] - 0s 2ms/step - loss: 3.6963 - val_loss: 3.5558\n"
          ]
        }
      ]
    },
    {
      "cell_type": "markdown",
      "source": [
        "##Predicting for Test dataset"
      ],
      "metadata": {
        "id": "j9Q6-Rpb83sT"
      }
    },
    {
      "cell_type": "code",
      "source": [
        "y_pred=ann.predict(X_test);\n",
        "from sklearn.metrics import mean_absolute_error\n",
        "mean_absolute_error(y_pred,y_test)"
      ],
      "metadata": {
        "colab": {
          "base_uri": "https://localhost:8080/"
        },
        "id": "EmBaLbQ386q7",
        "outputId": "3bada609-bf93-49fe-ea9d-eea1119fcd46"
      },
      "execution_count": 7,
      "outputs": [
        {
          "output_type": "execute_result",
          "data": {
            "text/plain": [
              "3.5557797394309154"
            ]
          },
          "metadata": {},
          "execution_count": 7
        }
      ]
    },
    {
      "cell_type": "markdown",
      "source": [
        "##Visualize Model"
      ],
      "metadata": {
        "id": "ynsPX1te8_vS"
      }
    },
    {
      "cell_type": "code",
      "source": [
        "plt.plot(history.history['loss'],label='train')\n",
        "plt.plot(history.history['val_loss'],label='test')\n",
        "plt.ylabel(\"MAE\")\n",
        "plt.legend()\n",
        "plt.plot()"
      ],
      "metadata": {
        "colab": {
          "base_uri": "https://localhost:8080/",
          "height": 284
        },
        "id": "ryVc9nTY9AnR",
        "outputId": "bf02f147-bc5b-4d20-e3cc-76ff6bf34aca"
      },
      "execution_count": 8,
      "outputs": [
        {
          "output_type": "execute_result",
          "data": {
            "text/plain": [
              "[]"
            ]
          },
          "metadata": {},
          "execution_count": 8
        },
        {
          "output_type": "display_data",
          "data": {
            "image/png": "[encoded data removed]",
            "text/plain": [
              "<Figure size 432x288 with 1 Axes>"
            ]
          },
          "metadata": {
            "needs_background": "light"
          }
        }
      ]
    },
    {
      "cell_type": "code",
      "source": [
        "ann.summary()"
      ],
      "metadata": {
        "colab": {
          "base_uri": "https://localhost:8080/"
        },
        "id": "t6sveBQ79ExU",
        "outputId": "ea0090ed-fa51-479f-8b03-d1bfdefb94c3"
      },
      "execution_count": 9,
      "outputs": [
        {
          "output_type": "stream",
          "name": "stdout",
          "text": [
            "Model: \"sequential\"\n",
            "_________________________________________________________________\n",
            " Layer (type)                Output Shape              Param #   \n",
            "=================================================================\n",
            " dense (Dense)               (None, 6)                 30        \n",
            "                                                                 \n",
            " dense_1 (Dense)             (None, 6)                 42        \n",
            "                                                                 \n",
            " dense_2 (Dense)             (None, 1)                 7         \n",
            "                                                                 \n",
            "=================================================================\n",
            "Total params: 79\n",
            "Trainable params: 79\n",
            "Non-trainable params: 0\n",
            "_________________________________________________________________\n"
          ]
        }
      ]
    },
    {
      "cell_type": "code",
      "source": [
        "from tensorflow.keras.utils import plot_model\n",
        "plot_model(ann,show_shapes=True)"
      ],
      "metadata": {
        "colab": {
          "base_uri": "https://localhost:8080/",
          "height": 422
        },
        "id": "0zywEAs_9Gh0",
        "outputId": "ed0089cf-00fd-45af-abce-8838ab454dee"
      },
      "execution_count": 10,
      "outputs": [
        {
          "output_type": "execute_result",
          "data": {
            "image/png": "[encoded data removed]",
            "text/plain": [
              "<IPython.core.display.Image object>"
            ]
          },
          "metadata": {},
          "execution_count": 10
        }
      ]
    }
  ]
}